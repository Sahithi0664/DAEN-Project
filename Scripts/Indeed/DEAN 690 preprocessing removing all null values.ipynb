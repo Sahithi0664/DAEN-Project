{
 "cells": [
  {
   "cell_type": "code",
   "execution_count": 15,
   "metadata": {},
   "outputs": [],
   "source": [
    "import os\n",
    "import glob\n",
    "import pandas as pd\n",
    "import numpy as np\n",
    "import random\n",
    "os.chdir('/Users/rishi/Desktop/DAEN 690/indeed')"
   ]
  },
  {
   "cell_type": "code",
   "execution_count": 16,
   "metadata": {},
   "outputs": [],
   "source": [
    "extension = 'csv'\n",
    "csv_file = [i for i in glob.glob('*.{}'.format(extension))]"
   ]
  },
  {
   "cell_type": "code",
   "execution_count": 17,
   "metadata": {},
   "outputs": [],
   "source": [
    "combined_csv = pd.concat([pd.read_csv(f) for f in csv_file ])\n",
    "combined_csv.to_csv( \"Job_posting_indeed.csv\", index=False, encoding='utf-8-sig')"
   ]
  },
  {
   "cell_type": "code",
   "execution_count": 18,
   "metadata": {},
   "outputs": [],
   "source": [
    "indeed=pd.read_csv('Job_posting_indeed.csv')"
   ]
  },
  {
   "cell_type": "code",
   "execution_count": 19,
   "metadata": {},
   "outputs": [],
   "source": [
    "#delete the first column\n",
    "del indeed['Unnamed: 0']  "
   ]
  },
  {
   "cell_type": "code",
   "execution_count": 20,
   "metadata": {},
   "outputs": [],
   "source": [
    "#method 1 for removinfg new from title\n",
    "indeed['title'] = indeed['title'].str.lstrip('new')"
   ]
  },
  {
   "cell_type": "code",
   "execution_count": 21,
   "metadata": {},
   "outputs": [
    {
     "data": {
      "text/html": [
       "<div>\n",
       "<style scoped>\n",
       "    .dataframe tbody tr th:only-of-type {\n",
       "        vertical-align: middle;\n",
       "    }\n",
       "\n",
       "    .dataframe tbody tr th {\n",
       "        vertical-align: top;\n",
       "    }\n",
       "\n",
       "    .dataframe thead th {\n",
       "        text-align: right;\n",
       "    }\n",
       "</style>\n",
       "<table border=\"1\" class=\"dataframe\">\n",
       "  <thead>\n",
       "    <tr style=\"text-align: right;\">\n",
       "      <th></th>\n",
       "      <th>title</th>\n",
       "      <th>company</th>\n",
       "      <th>salary</th>\n",
       "      <th>summary</th>\n",
       "      <th>location</th>\n",
       "    </tr>\n",
       "  </thead>\n",
       "  <tbody>\n",
       "    <tr>\n",
       "      <th>0</th>\n",
       "      <td>Software Developer (No Prior Experience Required)</td>\n",
       "      <td>Revature</td>\n",
       "      <td>NaN</td>\n",
       "      <td>College degree (Associates or Bachelors).\\nMus...</td>\n",
       "      <td>Washington, DC</td>\n",
       "    </tr>\n",
       "    <tr>\n",
       "      <th>1</th>\n",
       "      <td>SQL Application Developer</td>\n",
       "      <td>ServiceSource Inc.</td>\n",
       "      <td>NaN</td>\n",
       "      <td>Assist with the management and coordination be...</td>\n",
       "      <td>Capitol Heights, MD</td>\n",
       "    </tr>\n",
       "    <tr>\n",
       "      <th>2</th>\n",
       "      <td>GIS Developer</td>\n",
       "      <td>Leidos</td>\n",
       "      <td>NaN</td>\n",
       "      <td>Train other team members on GIS and other GIS ...</td>\n",
       "      <td>Washington, DC 20090 (South West area)+1 location</td>\n",
       "    </tr>\n",
       "    <tr>\n",
       "      <th>3</th>\n",
       "      <td>Jr Software Developer</td>\n",
       "      <td>KSquare Inc.</td>\n",
       "      <td>NaN</td>\n",
       "      <td>BS/ MS in IT or equivalent is required with st...</td>\n",
       "      <td>Greenbelt, MD 20770</td>\n",
       "    </tr>\n",
       "    <tr>\n",
       "      <th>4</th>\n",
       "      <td>HP059 Junior Software Developer</td>\n",
       "      <td>ADNET Systems, Inc.</td>\n",
       "      <td>NaN</td>\n",
       "      <td>Experience with using a Git workflow for softw...</td>\n",
       "      <td>Greenbelt, MD 20771</td>\n",
       "    </tr>\n",
       "  </tbody>\n",
       "</table>\n",
       "</div>"
      ],
      "text/plain": [
       "                                               title              company  \\\n",
       "0  Software Developer (No Prior Experience Required)             Revature   \n",
       "1                          SQL Application Developer   ServiceSource Inc.   \n",
       "2                                      GIS Developer               Leidos   \n",
       "3                              Jr Software Developer         KSquare Inc.   \n",
       "4                    HP059 Junior Software Developer  ADNET Systems, Inc.   \n",
       "\n",
       "  salary                                            summary  \\\n",
       "0    NaN  College degree (Associates or Bachelors).\\nMus...   \n",
       "1    NaN  Assist with the management and coordination be...   \n",
       "2    NaN  Train other team members on GIS and other GIS ...   \n",
       "3    NaN  BS/ MS in IT or equivalent is required with st...   \n",
       "4    NaN  Experience with using a Git workflow for softw...   \n",
       "\n",
       "                                            location  \n",
       "0                                     Washington, DC  \n",
       "1                                Capitol Heights, MD  \n",
       "2  Washington, DC 20090 (South West area)+1 location  \n",
       "3                                Greenbelt, MD 20770  \n",
       "4                                Greenbelt, MD 20771  "
      ]
     },
     "execution_count": 21,
     "metadata": {},
     "output_type": "execute_result"
    }
   ],
   "source": [
    "indeed.head()"
   ]
  },
  {
   "cell_type": "code",
   "execution_count": 22,
   "metadata": {},
   "outputs": [
    {
     "data": {
      "text/plain": [
       "title           0\n",
       "company         0\n",
       "salary      11121\n",
       "summary         0\n",
       "location        0\n",
       "dtype: int64"
      ]
     },
     "execution_count": 22,
     "metadata": {},
     "output_type": "execute_result"
    }
   ],
   "source": [
    "indeed.isnull().sum()"
   ]
  },
  {
   "cell_type": "code",
   "execution_count": 23,
   "metadata": {},
   "outputs": [],
   "source": [
    "#indeed = indeed.dropna() \n"
   ]
  },
  {
   "cell_type": "code",
   "execution_count": 24,
   "metadata": {},
   "outputs": [],
   "source": [
    "indeed['salary'] = indeed['salary'].str.rstrip('a year')\n",
    "indeed['salary'] = indeed['salary'].str.rstrip('an hour')\n",
    "indeed['salary'] = indeed['salary'].str.rstrip('a week')\n",
    "indeed['salary'] = indeed['salary'].str.rstrip('a month')\n",
    "indeed['salary'] = indeed['salary'].str.lstrip('Up to ')\n",
    "indeed['salary'] = indeed['salary'].str.lstrip('From ')\n",
    "indeed['salary'] = indeed['salary'].str.rstrip(' a d')"
   ]
  },
  {
   "cell_type": "code",
   "execution_count": 25,
   "metadata": {},
   "outputs": [],
   "source": [
    "indeed[['salary1','salary2']] = indeed.salary.str.split(\"-\",expand=True)\n",
    "indeed['salary1'] = indeed['salary1'].str.lstrip('$')\n",
    "indeed['salary2'] = indeed['salary2'].str.lstrip(' $')"
   ]
  },
  {
   "cell_type": "code",
   "execution_count": 26,
   "metadata": {},
   "outputs": [],
   "source": [
    "indeed['salary1'] = indeed['salary1'].replace(',','', regex=True)\n",
    "indeed['salary2'] = indeed['salary2'].replace(',','', regex=True)"
   ]
  },
  {
   "cell_type": "code",
   "execution_count": 27,
   "metadata": {},
   "outputs": [],
   "source": [
    "indeed['salary1'] = pd.to_numeric(indeed['salary1'])\n",
    "indeed['salary2'] = pd.to_numeric(indeed['salary2'])"
   ]
  },
  {
   "cell_type": "code",
   "execution_count": 28,
   "metadata": {},
   "outputs": [
    {
     "name": "stderr",
     "output_type": "stream",
     "text": [
      "/Users/rishi/opt/anaconda3/lib/python3.7/site-packages/ipykernel_launcher.py:3: SettingWithCopyWarning: \n",
      "A value is trying to be set on a copy of a slice from a DataFrame\n",
      "\n",
      "See the caveats in the documentation: https://pandas.pydata.org/pandas-docs/stable/user_guide/indexing.html#returning-a-view-versus-a-copy\n",
      "  This is separate from the ipykernel package so we can avoid doing imports until\n",
      "/Users/rishi/opt/anaconda3/lib/python3.7/site-packages/ipykernel_launcher.py:5: SettingWithCopyWarning: \n",
      "A value is trying to be set on a copy of a slice from a DataFrame\n",
      "\n",
      "See the caveats in the documentation: https://pandas.pydata.org/pandas-docs/stable/user_guide/indexing.html#returning-a-view-versus-a-copy\n",
      "  \"\"\"\n",
      "/Users/rishi/opt/anaconda3/lib/python3.7/site-packages/ipykernel_launcher.py:7: SettingWithCopyWarning: \n",
      "A value is trying to be set on a copy of a slice from a DataFrame\n",
      "\n",
      "See the caveats in the documentation: https://pandas.pydata.org/pandas-docs/stable/user_guide/indexing.html#returning-a-view-versus-a-copy\n",
      "  import sys\n"
     ]
    }
   ],
   "source": [
    "for i in range(0,len(indeed)):    \n",
    "    if indeed['salary1'][i] in range(0,200):\n",
    "        indeed['salary1'][i] = (indeed['salary1'][i]) * 40 * 52\n",
    "    elif (indeed['salary1'][i]) in range(201,4000):\n",
    "        indeed['salary1'][i] = (indeed['salary1'][i]) * 52\n",
    "    elif (indeed['salary1'][i]) in range(4001,30000):\n",
    "        indeed['salary1'][i] = (indeed['salary1'][i]) *12  "
   ]
  },
  {
   "cell_type": "code",
   "execution_count": 29,
   "metadata": {},
   "outputs": [
    {
     "name": "stderr",
     "output_type": "stream",
     "text": [
      "/Users/rishi/opt/anaconda3/lib/python3.7/site-packages/ipykernel_launcher.py:3: SettingWithCopyWarning: \n",
      "A value is trying to be set on a copy of a slice from a DataFrame\n",
      "\n",
      "See the caveats in the documentation: https://pandas.pydata.org/pandas-docs/stable/user_guide/indexing.html#returning-a-view-versus-a-copy\n",
      "  This is separate from the ipykernel package so we can avoid doing imports until\n",
      "/Users/rishi/opt/anaconda3/lib/python3.7/site-packages/ipykernel_launcher.py:7: SettingWithCopyWarning: \n",
      "A value is trying to be set on a copy of a slice from a DataFrame\n",
      "\n",
      "See the caveats in the documentation: https://pandas.pydata.org/pandas-docs/stable/user_guide/indexing.html#returning-a-view-versus-a-copy\n",
      "  import sys\n"
     ]
    }
   ],
   "source": [
    "for i in range(0,len(indeed)):    \n",
    "    if indeed['salary2'][i] in range(0,200):\n",
    "        indeed['salary2'][i] = (indeed['salary2'][i]) * 40 * 52\n",
    "    elif (indeed['salary2'][i]) in range(201,3000):\n",
    "        indeed['salary2'][i] = (indeed['salary2'][i]) * 52\n",
    "    elif (indeed['salary2'][i]) in range(3001,30000):\n",
    "        indeed['salary2'][i] = (indeed['salary2'][i]) *12 "
   ]
  },
  {
   "cell_type": "code",
   "execution_count": null,
   "metadata": {},
   "outputs": [],
   "source": [
    "del indeed['salary']"
   ]
  },
  {
   "cell_type": "code",
   "execution_count": null,
   "metadata": {},
   "outputs": [],
   "source": [
    "indeed = indeed.dropna() "
   ]
  },
  {
   "cell_type": "code",
   "execution_count": null,
   "metadata": {},
   "outputs": [],
   "source": [
    "indeed.info()"
   ]
  },
  {
   "cell_type": "code",
   "execution_count": 135,
   "metadata": {},
   "outputs": [],
   "source": [
    "col = indeed.loc[: , \"salary1\":\"salary2\"]"
   ]
  },
  {
   "cell_type": "code",
   "execution_count": 136,
   "metadata": {},
   "outputs": [
    {
     "data": {
      "text/html": [
       "<div>\n",
       "<style scoped>\n",
       "    .dataframe tbody tr th:only-of-type {\n",
       "        vertical-align: middle;\n",
       "    }\n",
       "\n",
       "    .dataframe tbody tr th {\n",
       "        vertical-align: top;\n",
       "    }\n",
       "\n",
       "    .dataframe thead th {\n",
       "        text-align: right;\n",
       "    }\n",
       "</style>\n",
       "<table border=\"1\" class=\"dataframe\">\n",
       "  <thead>\n",
       "    <tr style=\"text-align: right;\">\n",
       "      <th></th>\n",
       "      <th>title</th>\n",
       "      <th>company</th>\n",
       "      <th>summary</th>\n",
       "      <th>location</th>\n",
       "      <th>salary1</th>\n",
       "      <th>salary2</th>\n",
       "      <th>salary3</th>\n",
       "    </tr>\n",
       "  </thead>\n",
       "  <tbody>\n",
       "    <tr>\n",
       "      <th>8</th>\n",
       "      <td>Front End Web Developer</td>\n",
       "      <td>National Security Agency</td>\n",
       "      <td>Must also demonstrate knowledge (through cours...</td>\n",
       "      <td>Fort Meade, MD</td>\n",
       "      <td>87198.0</td>\n",
       "      <td>113362.0</td>\n",
       "      <td>100280.0</td>\n",
       "    </tr>\n",
       "    <tr>\n",
       "      <th>9</th>\n",
       "      <td>Entry Level Software Developer</td>\n",
       "      <td>EAI Technologies</td>\n",
       "      <td>Work in a fast-paced, hands-on capacity in a c...</td>\n",
       "      <td>Vienna, VA 22182•Temporarily Remote</td>\n",
       "      <td>70000.0</td>\n",
       "      <td>90000.0</td>\n",
       "      <td>80000.0</td>\n",
       "    </tr>\n",
       "    <tr>\n",
       "      <th>10</th>\n",
       "      <td>Software Engineer</td>\n",
       "      <td>Emerson Automation Solutions</td>\n",
       "      <td>We are looking for a meticulous leader and sof...</td>\n",
       "      <td>Washington, DC</td>\n",
       "      <td>91000.0</td>\n",
       "      <td>145000.0</td>\n",
       "      <td>118000.0</td>\n",
       "    </tr>\n",
       "    <tr>\n",
       "      <th>12</th>\n",
       "      <td>Software Developer</td>\n",
       "      <td>EAI Technologies</td>\n",
       "      <td>Be the driver to work in a fast-paced, hands-o...</td>\n",
       "      <td>Vienna, VA 22182•Temporarily Remote</td>\n",
       "      <td>90000.0</td>\n",
       "      <td>120000.0</td>\n",
       "      <td>105000.0</td>\n",
       "    </tr>\n",
       "    <tr>\n",
       "      <th>13</th>\n",
       "      <td>Junior Software Developer</td>\n",
       "      <td>Engineering Software and Network Services (ESNS)</td>\n",
       "      <td>Track and manage system performance and identi...</td>\n",
       "      <td>Washington, DC•Temporarily Remote</td>\n",
       "      <td>65000.0</td>\n",
       "      <td>70000.0</td>\n",
       "      <td>67500.0</td>\n",
       "    </tr>\n",
       "    <tr>\n",
       "      <th>...</th>\n",
       "      <td>...</td>\n",
       "      <td>...</td>\n",
       "      <td>...</td>\n",
       "      <td>...</td>\n",
       "      <td>...</td>\n",
       "      <td>...</td>\n",
       "      <td>...</td>\n",
       "    </tr>\n",
       "    <tr>\n",
       "      <th>12818</th>\n",
       "      <td>Senior Data Analyst</td>\n",
       "      <td>Confidential Priviately-Held Company</td>\n",
       "      <td>Data mapping (data definitions and business ru...</td>\n",
       "      <td>United States</td>\n",
       "      <td>150000.0</td>\n",
       "      <td>175000.0</td>\n",
       "      <td>162500.0</td>\n",
       "    </tr>\n",
       "    <tr>\n",
       "      <th>12832</th>\n",
       "      <td>Senior Data Analyst</td>\n",
       "      <td>Confidential Priviately-Held Company</td>\n",
       "      <td>Data mapping (data definitions and business ru...</td>\n",
       "      <td>United States</td>\n",
       "      <td>150000.0</td>\n",
       "      <td>175000.0</td>\n",
       "      <td>162500.0</td>\n",
       "    </tr>\n",
       "    <tr>\n",
       "      <th>12858</th>\n",
       "      <td>Senior Data Analyst</td>\n",
       "      <td>Confidential Priviately-Held Company</td>\n",
       "      <td>Data mapping (data definitions and business ru...</td>\n",
       "      <td>United States</td>\n",
       "      <td>150000.0</td>\n",
       "      <td>175000.0</td>\n",
       "      <td>162500.0</td>\n",
       "    </tr>\n",
       "    <tr>\n",
       "      <th>12871</th>\n",
       "      <td>Senior Data Analyst</td>\n",
       "      <td>Confidential Priviately-Held Company</td>\n",
       "      <td>Data mapping (data definitions and business ru...</td>\n",
       "      <td>United States</td>\n",
       "      <td>150000.0</td>\n",
       "      <td>175000.0</td>\n",
       "      <td>162500.0</td>\n",
       "    </tr>\n",
       "    <tr>\n",
       "      <th>12886</th>\n",
       "      <td>Senior Data Analyst</td>\n",
       "      <td>Confidential Priviately-Held Company</td>\n",
       "      <td>Data mapping (data definitions and business ru...</td>\n",
       "      <td>United States</td>\n",
       "      <td>150000.0</td>\n",
       "      <td>175000.0</td>\n",
       "      <td>162500.0</td>\n",
       "    </tr>\n",
       "  </tbody>\n",
       "</table>\n",
       "<p>1190 rows × 7 columns</p>\n",
       "</div>"
      ],
      "text/plain": [
       "                                title  \\\n",
       "8             Front End Web Developer   \n",
       "9      Entry Level Software Developer   \n",
       "10                  Software Engineer   \n",
       "12                 Software Developer   \n",
       "13          Junior Software Developer   \n",
       "...                               ...   \n",
       "12818             Senior Data Analyst   \n",
       "12832             Senior Data Analyst   \n",
       "12858             Senior Data Analyst   \n",
       "12871             Senior Data Analyst   \n",
       "12886             Senior Data Analyst   \n",
       "\n",
       "                                                company  \\\n",
       "8                              National Security Agency   \n",
       "9                                      EAI Technologies   \n",
       "10                         Emerson Automation Solutions   \n",
       "12                                     EAI Technologies   \n",
       "13     Engineering Software and Network Services (ESNS)   \n",
       "...                                                 ...   \n",
       "12818              Confidential Priviately-Held Company   \n",
       "12832              Confidential Priviately-Held Company   \n",
       "12858              Confidential Priviately-Held Company   \n",
       "12871              Confidential Priviately-Held Company   \n",
       "12886              Confidential Priviately-Held Company   \n",
       "\n",
       "                                                 summary  \\\n",
       "8      Must also demonstrate knowledge (through cours...   \n",
       "9      Work in a fast-paced, hands-on capacity in a c...   \n",
       "10     We are looking for a meticulous leader and sof...   \n",
       "12     Be the driver to work in a fast-paced, hands-o...   \n",
       "13     Track and manage system performance and identi...   \n",
       "...                                                  ...   \n",
       "12818  Data mapping (data definitions and business ru...   \n",
       "12832  Data mapping (data definitions and business ru...   \n",
       "12858  Data mapping (data definitions and business ru...   \n",
       "12871  Data mapping (data definitions and business ru...   \n",
       "12886  Data mapping (data definitions and business ru...   \n",
       "\n",
       "                                  location   salary1   salary2   salary3  \n",
       "8                           Fort Meade, MD   87198.0  113362.0  100280.0  \n",
       "9      Vienna, VA 22182•Temporarily Remote   70000.0   90000.0   80000.0  \n",
       "10                          Washington, DC   91000.0  145000.0  118000.0  \n",
       "12     Vienna, VA 22182•Temporarily Remote   90000.0  120000.0  105000.0  \n",
       "13       Washington, DC•Temporarily Remote   65000.0   70000.0   67500.0  \n",
       "...                                    ...       ...       ...       ...  \n",
       "12818                        United States  150000.0  175000.0  162500.0  \n",
       "12832                        United States  150000.0  175000.0  162500.0  \n",
       "12858                        United States  150000.0  175000.0  162500.0  \n",
       "12871                        United States  150000.0  175000.0  162500.0  \n",
       "12886                        United States  150000.0  175000.0  162500.0  \n",
       "\n",
       "[1190 rows x 7 columns]"
      ]
     },
     "execution_count": 136,
     "metadata": {},
     "output_type": "execute_result"
    }
   ],
   "source": [
    "indeed['salary3'] = col.mean(axis=1)\n",
    "indeed"
   ]
  },
  {
   "cell_type": "code",
   "execution_count": 137,
   "metadata": {},
   "outputs": [],
   "source": [
    "indeed1 = indeed.copy()"
   ]
  },
  {
   "cell_type": "code",
   "execution_count": 138,
   "metadata": {},
   "outputs": [],
   "source": [
    "indeed2 = indeed.copy()"
   ]
  },
  {
   "cell_type": "code",
   "execution_count": 139,
   "metadata": {},
   "outputs": [],
   "source": [
    "indeed3 = indeed.copy()"
   ]
  },
  {
   "cell_type": "code",
   "execution_count": 140,
   "metadata": {},
   "outputs": [],
   "source": [
    "del indeed1['salary2']\n",
    "del indeed1['salary3']"
   ]
  },
  {
   "cell_type": "code",
   "execution_count": 141,
   "metadata": {},
   "outputs": [],
   "source": [
    "del indeed2['salary1']\n",
    "del indeed2['salary3']"
   ]
  },
  {
   "cell_type": "code",
   "execution_count": 142,
   "metadata": {},
   "outputs": [],
   "source": [
    "del indeed3['salary1']\n",
    "del indeed3['salary2']"
   ]
  },
  {
   "cell_type": "code",
   "execution_count": 143,
   "metadata": {},
   "outputs": [],
   "source": [
    "indeed1['Experience'] = np.random.randint(3, 5, indeed.shape[0])"
   ]
  },
  {
   "cell_type": "code",
   "execution_count": 144,
   "metadata": {},
   "outputs": [],
   "source": [
    "indeed2['Experience'] = np.random.randint(9, 12, indeed.shape[0])"
   ]
  },
  {
   "cell_type": "code",
   "execution_count": 145,
   "metadata": {},
   "outputs": [],
   "source": [
    "indeed3['Experience'] = np.random.randint(6, 8, indeed.shape[0])"
   ]
  },
  {
   "cell_type": "code",
   "execution_count": 146,
   "metadata": {},
   "outputs": [],
   "source": [
    "indeed1 = indeed1.rename(columns = {\"salary1\":\"salary\"})"
   ]
  },
  {
   "cell_type": "code",
   "execution_count": 147,
   "metadata": {},
   "outputs": [],
   "source": [
    "indeed2 = indeed2.rename(columns = {\"salary2\":\"salary\"})"
   ]
  },
  {
   "cell_type": "code",
   "execution_count": 148,
   "metadata": {},
   "outputs": [],
   "source": [
    "indeed3 = indeed3.rename(columns = {\"salary3\":\"salary\"})"
   ]
  },
  {
   "cell_type": "code",
   "execution_count": 149,
   "metadata": {},
   "outputs": [],
   "source": [
    "os.chdir('/Users/rishi/Desktop/DAEN 690/glassdoor')"
   ]
  },
  {
   "cell_type": "code",
   "execution_count": 150,
   "metadata": {},
   "outputs": [],
   "source": [
    "glassdoor=pd.read_csv('jobs.csv')"
   ]
  },
  {
   "cell_type": "code",
   "execution_count": 151,
   "metadata": {},
   "outputs": [],
   "source": [
    "del glassdoor['Rating']\n",
    "del glassdoor['Headquarters']\n",
    "del glassdoor['Size']\n",
    "del glassdoor['Founded']\n",
    "del glassdoor['Type of ownership']\n",
    "del glassdoor['Industry']\n",
    "del glassdoor['Sector']\n",
    "del glassdoor['Revenue']\n",
    "del glassdoor['Competitors']\n",
    "del glassdoor['Easy Apply']"
   ]
  },
  {
   "cell_type": "code",
   "execution_count": 152,
   "metadata": {},
   "outputs": [],
   "source": [
    "glassdoor.rename(columns={'Job Title': 'title', 'Salary Estimate': 'salary','Job Description':'summary','Company Name':'company','Location':'location'}, inplace=True)\n"
   ]
  },
  {
   "cell_type": "code",
   "execution_count": 153,
   "metadata": {},
   "outputs": [
    {
     "data": {
      "text/html": [
       "<div>\n",
       "<style scoped>\n",
       "    .dataframe tbody tr th:only-of-type {\n",
       "        vertical-align: middle;\n",
       "    }\n",
       "\n",
       "    .dataframe tbody tr th {\n",
       "        vertical-align: top;\n",
       "    }\n",
       "\n",
       "    .dataframe thead th {\n",
       "        text-align: right;\n",
       "    }\n",
       "</style>\n",
       "<table border=\"1\" class=\"dataframe\">\n",
       "  <thead>\n",
       "    <tr style=\"text-align: right;\">\n",
       "      <th></th>\n",
       "      <th>title</th>\n",
       "      <th>salary</th>\n",
       "      <th>summary</th>\n",
       "      <th>company</th>\n",
       "      <th>location</th>\n",
       "    </tr>\n",
       "  </thead>\n",
       "  <tbody>\n",
       "    <tr>\n",
       "      <th>0</th>\n",
       "      <td>Project Manager / Business Analyst</td>\n",
       "      <td>$77K-$151K (Glassdoor est.)</td>\n",
       "      <td>Project Manager / Business Analyst\\n\\n\\nIn the...</td>\n",
       "      <td>DNTG\\n2.9</td>\n",
       "      <td>Buena Park, CA</td>\n",
       "    </tr>\n",
       "    <tr>\n",
       "      <th>1</th>\n",
       "      <td>Project Manager / Business Analyst</td>\n",
       "      <td>$41K-$81K (Glassdoor est.)</td>\n",
       "      <td>This is a hybrid role of PM and BA with 3 to 5...</td>\n",
       "      <td>Diversant LLC\\n3.8</td>\n",
       "      <td>Houston, TX</td>\n",
       "    </tr>\n",
       "    <tr>\n",
       "      <th>2</th>\n",
       "      <td>Project Manager/Business Consultant</td>\n",
       "      <td>$45K-$53K (Glassdoor est.)</td>\n",
       "      <td>Project Manager/Business Consultant\\n\\nRespons...</td>\n",
       "      <td>TEC Group Inc</td>\n",
       "      <td>Houston, TX</td>\n",
       "    </tr>\n",
       "    <tr>\n",
       "      <th>3</th>\n",
       "      <td>Project Manager Business Analyst</td>\n",
       "      <td>$89K-$107K (Glassdoor est.)</td>\n",
       "      <td>Job Description\\nAt E78, we assist our clients...</td>\n",
       "      <td>Trillium Solutions Group\\n4.8</td>\n",
       "      <td>Horsham, PA</td>\n",
       "    </tr>\n",
       "    <tr>\n",
       "      <th>4</th>\n",
       "      <td>Project Manager Business Analyst</td>\n",
       "      <td>$36K-$73K (Glassdoor est.)</td>\n",
       "      <td>Job Description\\nCSS Tec is currently seeking ...</td>\n",
       "      <td>Contemporary Staffing Solutions\\n4.4</td>\n",
       "      <td>Jacksonville, FL</td>\n",
       "    </tr>\n",
       "  </tbody>\n",
       "</table>\n",
       "</div>"
      ],
      "text/plain": [
       "                                 title                       salary  \\\n",
       "0   Project Manager / Business Analyst  $77K-$151K (Glassdoor est.)   \n",
       "1   Project Manager / Business Analyst   $41K-$81K (Glassdoor est.)   \n",
       "2  Project Manager/Business Consultant   $45K-$53K (Glassdoor est.)   \n",
       "3     Project Manager Business Analyst  $89K-$107K (Glassdoor est.)   \n",
       "4     Project Manager Business Analyst   $36K-$73K (Glassdoor est.)   \n",
       "\n",
       "                                             summary  \\\n",
       "0  Project Manager / Business Analyst\\n\\n\\nIn the...   \n",
       "1  This is a hybrid role of PM and BA with 3 to 5...   \n",
       "2  Project Manager/Business Consultant\\n\\nRespons...   \n",
       "3  Job Description\\nAt E78, we assist our clients...   \n",
       "4  Job Description\\nCSS Tec is currently seeking ...   \n",
       "\n",
       "                                company          location  \n",
       "0                             DNTG\\n2.9    Buena Park, CA  \n",
       "1                    Diversant LLC\\n3.8       Houston, TX  \n",
       "2                         TEC Group Inc       Houston, TX  \n",
       "3         Trillium Solutions Group\\n4.8       Horsham, PA  \n",
       "4  Contemporary Staffing Solutions\\n4.4  Jacksonville, FL  "
      ]
     },
     "execution_count": 153,
     "metadata": {},
     "output_type": "execute_result"
    }
   ],
   "source": [
    "glassdoor.head()"
   ]
  },
  {
   "cell_type": "code",
   "execution_count": 154,
   "metadata": {},
   "outputs": [],
   "source": [
    "glassdoor['salary'] = glassdoor['salary'].str.rstrip(' (Glassdoor est.)')"
   ]
  },
  {
   "cell_type": "code",
   "execution_count": 155,
   "metadata": {},
   "outputs": [],
   "source": [
    "glassdoor['salary'] = glassdoor['salary'].str.rstrip('(Employ')"
   ]
  },
  {
   "cell_type": "code",
   "execution_count": 156,
   "metadata": {},
   "outputs": [
    {
     "data": {
      "text/plain": [
       "0       $77K-$151K\n",
       "1        $41K-$81K\n",
       "2        $45K-$53K\n",
       "3       $89K-$107K\n",
       "4        $36K-$73K\n",
       "           ...    \n",
       "2137     $43K-$72K\n",
       "2138    $91K-$143K\n",
       "2139    $48K-$107K\n",
       "2140    $48K-$107K\n",
       "2141    $48K-$107K\n",
       "Name: salary, Length: 2142, dtype: object"
      ]
     },
     "execution_count": 156,
     "metadata": {},
     "output_type": "execute_result"
    }
   ],
   "source": [
    "glassdoor['salary']"
   ]
  },
  {
   "cell_type": "code",
   "execution_count": 157,
   "metadata": {},
   "outputs": [],
   "source": [
    "glassdoor['salary'] = glassdoor['salary'].str.rstrip('a year')\n",
    "glassdoor['salary'] = glassdoor['salary'].str.rstrip('an hour')\n",
    "glassdoor['salary'] = glassdoor['salary'].str.rstrip('a week')\n",
    "glassdoor['salary'] = glassdoor['salary'].str.rstrip('a month')\n",
    "#glassdoor['salary'] = glassdoor['salary'].str.lstrip('Up to ')\n",
    "#glassdoor['salary'] = glassdoor['salary'].str.lstrip('From ')\n",
    "glassdoor['salary'] = glassdoor['salary'].str.rstrip('Per Hou')"
   ]
  },
  {
   "cell_type": "code",
   "execution_count": 158,
   "metadata": {},
   "outputs": [],
   "source": [
    "glassdoor[['salary1','salary2']] = glassdoor.salary.str.split(\"-\",expand=True)\n",
    "glassdoor['salary1'] = glassdoor['salary1'].str.lstrip('$')\n",
    "glassdoor['salary2'] = glassdoor['salary2'].str.lstrip(' $')\n",
    "glassdoor['salary1'] = glassdoor['salary1'].str.lstrip('$')\n",
    "glassdoor['salary2'] = glassdoor['salary2'].str.lstrip(' $')"
   ]
  },
  {
   "cell_type": "code",
   "execution_count": 159,
   "metadata": {},
   "outputs": [],
   "source": [
    "glassdoor['salary1'] = glassdoor['salary1'].str.rstrip('K')\n",
    "glassdoor['salary2'] = glassdoor['salary2'].str.rstrip('K')"
   ]
  },
  {
   "cell_type": "code",
   "execution_count": 160,
   "metadata": {},
   "outputs": [],
   "source": [
    "glassdoor['salary1'] = pd.to_numeric(glassdoor['salary1'])\n",
    "glassdoor[\"salary1\"] = 1000 * glassdoor[\"salary1\"]\n",
    "glassdoor['salary2'] = pd.to_numeric(glassdoor['salary2'])\n",
    "glassdoor[\"salary2\"] = 1000 * glassdoor[\"salary2\"]"
   ]
  },
  {
   "cell_type": "code",
   "execution_count": 161,
   "metadata": {},
   "outputs": [],
   "source": [
    "del glassdoor['salary']"
   ]
  },
  {
   "cell_type": "code",
   "execution_count": 162,
   "metadata": {},
   "outputs": [
    {
     "data": {
      "text/html": [
       "<div>\n",
       "<style scoped>\n",
       "    .dataframe tbody tr th:only-of-type {\n",
       "        vertical-align: middle;\n",
       "    }\n",
       "\n",
       "    .dataframe tbody tr th {\n",
       "        vertical-align: top;\n",
       "    }\n",
       "\n",
       "    .dataframe thead th {\n",
       "        text-align: right;\n",
       "    }\n",
       "</style>\n",
       "<table border=\"1\" class=\"dataframe\">\n",
       "  <thead>\n",
       "    <tr style=\"text-align: right;\">\n",
       "      <th></th>\n",
       "      <th>title</th>\n",
       "      <th>summary</th>\n",
       "      <th>company</th>\n",
       "      <th>location</th>\n",
       "      <th>salary1</th>\n",
       "      <th>salary2</th>\n",
       "      <th>salary3</th>\n",
       "    </tr>\n",
       "  </thead>\n",
       "  <tbody>\n",
       "    <tr>\n",
       "      <th>0</th>\n",
       "      <td>Project Manager / Business Analyst</td>\n",
       "      <td>Project Manager / Business Analyst\\n\\n\\nIn the...</td>\n",
       "      <td>DNTG\\n2.9</td>\n",
       "      <td>Buena Park, CA</td>\n",
       "      <td>77000</td>\n",
       "      <td>151000</td>\n",
       "      <td>114000.0</td>\n",
       "    </tr>\n",
       "    <tr>\n",
       "      <th>1</th>\n",
       "      <td>Project Manager / Business Analyst</td>\n",
       "      <td>This is a hybrid role of PM and BA with 3 to 5...</td>\n",
       "      <td>Diversant LLC\\n3.8</td>\n",
       "      <td>Houston, TX</td>\n",
       "      <td>41000</td>\n",
       "      <td>81000</td>\n",
       "      <td>61000.0</td>\n",
       "    </tr>\n",
       "    <tr>\n",
       "      <th>2</th>\n",
       "      <td>Project Manager/Business Consultant</td>\n",
       "      <td>Project Manager/Business Consultant\\n\\nRespons...</td>\n",
       "      <td>TEC Group Inc</td>\n",
       "      <td>Houston, TX</td>\n",
       "      <td>45000</td>\n",
       "      <td>53000</td>\n",
       "      <td>49000.0</td>\n",
       "    </tr>\n",
       "    <tr>\n",
       "      <th>3</th>\n",
       "      <td>Project Manager Business Analyst</td>\n",
       "      <td>Job Description\\nAt E78, we assist our clients...</td>\n",
       "      <td>Trillium Solutions Group\\n4.8</td>\n",
       "      <td>Horsham, PA</td>\n",
       "      <td>89000</td>\n",
       "      <td>107000</td>\n",
       "      <td>98000.0</td>\n",
       "    </tr>\n",
       "    <tr>\n",
       "      <th>4</th>\n",
       "      <td>Project Manager Business Analyst</td>\n",
       "      <td>Job Description\\nCSS Tec is currently seeking ...</td>\n",
       "      <td>Contemporary Staffing Solutions\\n4.4</td>\n",
       "      <td>Jacksonville, FL</td>\n",
       "      <td>36000</td>\n",
       "      <td>73000</td>\n",
       "      <td>54500.0</td>\n",
       "    </tr>\n",
       "    <tr>\n",
       "      <th>...</th>\n",
       "      <td>...</td>\n",
       "      <td>...</td>\n",
       "      <td>...</td>\n",
       "      <td>...</td>\n",
       "      <td>...</td>\n",
       "      <td>...</td>\n",
       "      <td>...</td>\n",
       "    </tr>\n",
       "    <tr>\n",
       "      <th>2137</th>\n",
       "      <td>Software Development Engineering, Analyst</td>\n",
       "      <td>Position Description  What does a great Softwa...</td>\n",
       "      <td>Fiserv\\n3.1</td>\n",
       "      <td>Chicago, IL</td>\n",
       "      <td>43000</td>\n",
       "      <td>72000</td>\n",
       "      <td>57500.0</td>\n",
       "    </tr>\n",
       "    <tr>\n",
       "      <th>2138</th>\n",
       "      <td>Software Developer / Analyst</td>\n",
       "      <td>Job Title : Software Developer / Analyst   Job...</td>\n",
       "      <td>Genuine IT\\n4.3</td>\n",
       "      <td>Houston, TX</td>\n",
       "      <td>91000</td>\n",
       "      <td>143000</td>\n",
       "      <td>117000.0</td>\n",
       "    </tr>\n",
       "    <tr>\n",
       "      <th>2139</th>\n",
       "      <td>Test Automation Analyst - II</td>\n",
       "      <td>SWBC has been recognized as one of the Best Co...</td>\n",
       "      <td>Southwest Business Corporation\\n3.1</td>\n",
       "      <td>San Antonio, TX</td>\n",
       "      <td>48000</td>\n",
       "      <td>107000</td>\n",
       "      <td>77500.0</td>\n",
       "    </tr>\n",
       "    <tr>\n",
       "      <th>2140</th>\n",
       "      <td>Test Automation Analyst II</td>\n",
       "      <td>SUMMARY\\n\\nCreates and maintains manual and au...</td>\n",
       "      <td>SWBC\\n3.1</td>\n",
       "      <td>San Antonio, TX</td>\n",
       "      <td>48000</td>\n",
       "      <td>107000</td>\n",
       "      <td>77500.0</td>\n",
       "    </tr>\n",
       "    <tr>\n",
       "      <th>2141</th>\n",
       "      <td>Test Automation Analyst II</td>\n",
       "      <td>SUMMARY  Creates and maintains manual and auto...</td>\n",
       "      <td>SWBC\\n3.1</td>\n",
       "      <td>San Antonio, TX</td>\n",
       "      <td>48000</td>\n",
       "      <td>107000</td>\n",
       "      <td>77500.0</td>\n",
       "    </tr>\n",
       "  </tbody>\n",
       "</table>\n",
       "<p>2142 rows × 7 columns</p>\n",
       "</div>"
      ],
      "text/plain": [
       "                                          title  \\\n",
       "0            Project Manager / Business Analyst   \n",
       "1            Project Manager / Business Analyst   \n",
       "2           Project Manager/Business Consultant   \n",
       "3              Project Manager Business Analyst   \n",
       "4              Project Manager Business Analyst   \n",
       "...                                         ...   \n",
       "2137  Software Development Engineering, Analyst   \n",
       "2138               Software Developer / Analyst   \n",
       "2139               Test Automation Analyst - II   \n",
       "2140                 Test Automation Analyst II   \n",
       "2141                 Test Automation Analyst II   \n",
       "\n",
       "                                                summary  \\\n",
       "0     Project Manager / Business Analyst\\n\\n\\nIn the...   \n",
       "1     This is a hybrid role of PM and BA with 3 to 5...   \n",
       "2     Project Manager/Business Consultant\\n\\nRespons...   \n",
       "3     Job Description\\nAt E78, we assist our clients...   \n",
       "4     Job Description\\nCSS Tec is currently seeking ...   \n",
       "...                                                 ...   \n",
       "2137  Position Description  What does a great Softwa...   \n",
       "2138  Job Title : Software Developer / Analyst   Job...   \n",
       "2139  SWBC has been recognized as one of the Best Co...   \n",
       "2140  SUMMARY\\n\\nCreates and maintains manual and au...   \n",
       "2141  SUMMARY  Creates and maintains manual and auto...   \n",
       "\n",
       "                                   company          location  salary1  \\\n",
       "0                                DNTG\\n2.9    Buena Park, CA    77000   \n",
       "1                       Diversant LLC\\n3.8       Houston, TX    41000   \n",
       "2                            TEC Group Inc       Houston, TX    45000   \n",
       "3            Trillium Solutions Group\\n4.8       Horsham, PA    89000   \n",
       "4     Contemporary Staffing Solutions\\n4.4  Jacksonville, FL    36000   \n",
       "...                                    ...               ...      ...   \n",
       "2137                           Fiserv\\n3.1       Chicago, IL    43000   \n",
       "2138                       Genuine IT\\n4.3       Houston, TX    91000   \n",
       "2139   Southwest Business Corporation\\n3.1   San Antonio, TX    48000   \n",
       "2140                             SWBC\\n3.1   San Antonio, TX    48000   \n",
       "2141                             SWBC\\n3.1   San Antonio, TX    48000   \n",
       "\n",
       "      salary2   salary3  \n",
       "0      151000  114000.0  \n",
       "1       81000   61000.0  \n",
       "2       53000   49000.0  \n",
       "3      107000   98000.0  \n",
       "4       73000   54500.0  \n",
       "...       ...       ...  \n",
       "2137    72000   57500.0  \n",
       "2138   143000  117000.0  \n",
       "2139   107000   77500.0  \n",
       "2140   107000   77500.0  \n",
       "2141   107000   77500.0  \n",
       "\n",
       "[2142 rows x 7 columns]"
      ]
     },
     "execution_count": 162,
     "metadata": {},
     "output_type": "execute_result"
    }
   ],
   "source": [
    "col = glassdoor.loc[: , \"salary1\":\"salary2\"]\n",
    "glassdoor['salary3'] = col.mean(axis=1)\n",
    "glassdoor"
   ]
  },
  {
   "cell_type": "code",
   "execution_count": 163,
   "metadata": {},
   "outputs": [],
   "source": [
    "glassdoor1 = glassdoor.copy()"
   ]
  },
  {
   "cell_type": "code",
   "execution_count": 164,
   "metadata": {},
   "outputs": [],
   "source": [
    "glassdoor2 = glassdoor.copy()"
   ]
  },
  {
   "cell_type": "code",
   "execution_count": 165,
   "metadata": {},
   "outputs": [],
   "source": [
    "glassdoor3 = glassdoor.copy()"
   ]
  },
  {
   "cell_type": "code",
   "execution_count": 166,
   "metadata": {},
   "outputs": [],
   "source": [
    "del glassdoor1['salary2']\n",
    "del glassdoor1['salary3']"
   ]
  },
  {
   "cell_type": "code",
   "execution_count": 167,
   "metadata": {},
   "outputs": [],
   "source": [
    "del glassdoor2['salary1']\n",
    "del glassdoor2['salary3']"
   ]
  },
  {
   "cell_type": "code",
   "execution_count": 168,
   "metadata": {},
   "outputs": [],
   "source": [
    "del glassdoor3['salary1']\n",
    "del glassdoor3['salary2']"
   ]
  },
  {
   "cell_type": "code",
   "execution_count": 169,
   "metadata": {},
   "outputs": [],
   "source": [
    "glassdoor1['Experience'] = np.random.randint(3, 5, glassdoor1.shape[0])"
   ]
  },
  {
   "cell_type": "code",
   "execution_count": 170,
   "metadata": {},
   "outputs": [],
   "source": [
    "glassdoor2['Experience'] = np.random.randint(9, 12, glassdoor2.shape[0])"
   ]
  },
  {
   "cell_type": "code",
   "execution_count": 171,
   "metadata": {},
   "outputs": [],
   "source": [
    "glassdoor3['Experience'] = np.random.randint(6, 8, glassdoor2.shape[0])"
   ]
  },
  {
   "cell_type": "code",
   "execution_count": null,
   "metadata": {},
   "outputs": [],
   "source": []
  },
  {
   "cell_type": "code",
   "execution_count": 172,
   "metadata": {},
   "outputs": [],
   "source": [
    "glassdoor1 = glassdoor1.rename(columns = {\"salary1\":\"salary\"})\n",
    "glassdoor2 = glassdoor2.rename(columns = {\"salary2\":\"salary\"})"
   ]
  },
  {
   "cell_type": "code",
   "execution_count": 173,
   "metadata": {},
   "outputs": [],
   "source": [
    "glassdoor3 = glassdoor3.rename(columns = {\"salary3\":\"salary\"})"
   ]
  },
  {
   "cell_type": "code",
   "execution_count": 174,
   "metadata": {},
   "outputs": [
    {
     "data": {
      "text/html": [
       "<div>\n",
       "<style scoped>\n",
       "    .dataframe tbody tr th:only-of-type {\n",
       "        vertical-align: middle;\n",
       "    }\n",
       "\n",
       "    .dataframe tbody tr th {\n",
       "        vertical-align: top;\n",
       "    }\n",
       "\n",
       "    .dataframe thead th {\n",
       "        text-align: right;\n",
       "    }\n",
       "</style>\n",
       "<table border=\"1\" class=\"dataframe\">\n",
       "  <thead>\n",
       "    <tr style=\"text-align: right;\">\n",
       "      <th></th>\n",
       "      <th>title</th>\n",
       "      <th>company</th>\n",
       "      <th>summary</th>\n",
       "      <th>location</th>\n",
       "      <th>salary</th>\n",
       "      <th>Experience</th>\n",
       "    </tr>\n",
       "  </thead>\n",
       "  <tbody>\n",
       "    <tr>\n",
       "      <th>8</th>\n",
       "      <td>Front End Web Developer</td>\n",
       "      <td>National Security Agency</td>\n",
       "      <td>Must also demonstrate knowledge (through cours...</td>\n",
       "      <td>Fort Meade, MD</td>\n",
       "      <td>87198.0</td>\n",
       "      <td>4</td>\n",
       "    </tr>\n",
       "    <tr>\n",
       "      <th>9</th>\n",
       "      <td>Entry Level Software Developer</td>\n",
       "      <td>EAI Technologies</td>\n",
       "      <td>Work in a fast-paced, hands-on capacity in a c...</td>\n",
       "      <td>Vienna, VA 22182•Temporarily Remote</td>\n",
       "      <td>70000.0</td>\n",
       "      <td>3</td>\n",
       "    </tr>\n",
       "    <tr>\n",
       "      <th>10</th>\n",
       "      <td>Software Engineer</td>\n",
       "      <td>Emerson Automation Solutions</td>\n",
       "      <td>We are looking for a meticulous leader and sof...</td>\n",
       "      <td>Washington, DC</td>\n",
       "      <td>91000.0</td>\n",
       "      <td>3</td>\n",
       "    </tr>\n",
       "    <tr>\n",
       "      <th>12</th>\n",
       "      <td>Software Developer</td>\n",
       "      <td>EAI Technologies</td>\n",
       "      <td>Be the driver to work in a fast-paced, hands-o...</td>\n",
       "      <td>Vienna, VA 22182•Temporarily Remote</td>\n",
       "      <td>90000.0</td>\n",
       "      <td>4</td>\n",
       "    </tr>\n",
       "    <tr>\n",
       "      <th>13</th>\n",
       "      <td>Junior Software Developer</td>\n",
       "      <td>Engineering Software and Network Services (ESNS)</td>\n",
       "      <td>Track and manage system performance and identi...</td>\n",
       "      <td>Washington, DC•Temporarily Remote</td>\n",
       "      <td>65000.0</td>\n",
       "      <td>4</td>\n",
       "    </tr>\n",
       "  </tbody>\n",
       "</table>\n",
       "</div>"
      ],
      "text/plain": [
       "                             title  \\\n",
       "8          Front End Web Developer   \n",
       "9   Entry Level Software Developer   \n",
       "10               Software Engineer   \n",
       "12              Software Developer   \n",
       "13       Junior Software Developer   \n",
       "\n",
       "                                             company  \\\n",
       "8                           National Security Agency   \n",
       "9                                   EAI Technologies   \n",
       "10                      Emerson Automation Solutions   \n",
       "12                                  EAI Technologies   \n",
       "13  Engineering Software and Network Services (ESNS)   \n",
       "\n",
       "                                              summary  \\\n",
       "8   Must also demonstrate knowledge (through cours...   \n",
       "9   Work in a fast-paced, hands-on capacity in a c...   \n",
       "10  We are looking for a meticulous leader and sof...   \n",
       "12  Be the driver to work in a fast-paced, hands-o...   \n",
       "13  Track and manage system performance and identi...   \n",
       "\n",
       "                               location   salary  Experience  \n",
       "8                        Fort Meade, MD  87198.0           4  \n",
       "9   Vienna, VA 22182•Temporarily Remote  70000.0           3  \n",
       "10                       Washington, DC  91000.0           3  \n",
       "12  Vienna, VA 22182•Temporarily Remote  90000.0           4  \n",
       "13    Washington, DC•Temporarily Remote  65000.0           4  "
      ]
     },
     "execution_count": 174,
     "metadata": {},
     "output_type": "execute_result"
    }
   ],
   "source": [
    "frame = [indeed1,indeed2,indeed3,glassdoor1,glassdoor2,glassdoor3]\n",
    "total_data = pd.concat(frame)\n",
    "total_data.head()"
   ]
  },
  {
   "cell_type": "code",
   "execution_count": 175,
   "metadata": {},
   "outputs": [],
   "source": [
    "total_data[\"posted_date\"] = np.random.choice(pd.date_range('01-01-2017', '12-31-2020'), len(total_data))"
   ]
  },
  {
   "cell_type": "code",
   "execution_count": 176,
   "metadata": {},
   "outputs": [],
   "source": [
    "total_data.to_csv('total_jobs.csv')"
   ]
  },
  {
   "cell_type": "code",
   "execution_count": 177,
   "metadata": {},
   "outputs": [
    {
     "data": {
      "text/html": [
       "<div>\n",
       "<style scoped>\n",
       "    .dataframe tbody tr th:only-of-type {\n",
       "        vertical-align: middle;\n",
       "    }\n",
       "\n",
       "    .dataframe tbody tr th {\n",
       "        vertical-align: top;\n",
       "    }\n",
       "\n",
       "    .dataframe thead th {\n",
       "        text-align: right;\n",
       "    }\n",
       "</style>\n",
       "<table border=\"1\" class=\"dataframe\">\n",
       "  <thead>\n",
       "    <tr style=\"text-align: right;\">\n",
       "      <th></th>\n",
       "      <th>title</th>\n",
       "      <th>company</th>\n",
       "      <th>summary</th>\n",
       "      <th>location</th>\n",
       "      <th>salary</th>\n",
       "      <th>Experience</th>\n",
       "    </tr>\n",
       "  </thead>\n",
       "  <tbody>\n",
       "    <tr>\n",
       "      <th>8</th>\n",
       "      <td>Front End Web Developer</td>\n",
       "      <td>National Security Agency</td>\n",
       "      <td>Must also demonstrate knowledge (through cours...</td>\n",
       "      <td>Fort Meade, MD</td>\n",
       "      <td>100280.0</td>\n",
       "      <td>6</td>\n",
       "    </tr>\n",
       "    <tr>\n",
       "      <th>9</th>\n",
       "      <td>Entry Level Software Developer</td>\n",
       "      <td>EAI Technologies</td>\n",
       "      <td>Work in a fast-paced, hands-on capacity in a c...</td>\n",
       "      <td>Vienna, VA 22182•Temporarily Remote</td>\n",
       "      <td>80000.0</td>\n",
       "      <td>7</td>\n",
       "    </tr>\n",
       "    <tr>\n",
       "      <th>10</th>\n",
       "      <td>Software Engineer</td>\n",
       "      <td>Emerson Automation Solutions</td>\n",
       "      <td>We are looking for a meticulous leader and sof...</td>\n",
       "      <td>Washington, DC</td>\n",
       "      <td>118000.0</td>\n",
       "      <td>6</td>\n",
       "    </tr>\n",
       "    <tr>\n",
       "      <th>12</th>\n",
       "      <td>Software Developer</td>\n",
       "      <td>EAI Technologies</td>\n",
       "      <td>Be the driver to work in a fast-paced, hands-o...</td>\n",
       "      <td>Vienna, VA 22182•Temporarily Remote</td>\n",
       "      <td>105000.0</td>\n",
       "      <td>7</td>\n",
       "    </tr>\n",
       "    <tr>\n",
       "      <th>13</th>\n",
       "      <td>Junior Software Developer</td>\n",
       "      <td>Engineering Software and Network Services (ESNS)</td>\n",
       "      <td>Track and manage system performance and identi...</td>\n",
       "      <td>Washington, DC•Temporarily Remote</td>\n",
       "      <td>67500.0</td>\n",
       "      <td>6</td>\n",
       "    </tr>\n",
       "  </tbody>\n",
       "</table>\n",
       "</div>"
      ],
      "text/plain": [
       "                             title  \\\n",
       "8          Front End Web Developer   \n",
       "9   Entry Level Software Developer   \n",
       "10               Software Engineer   \n",
       "12              Software Developer   \n",
       "13       Junior Software Developer   \n",
       "\n",
       "                                             company  \\\n",
       "8                           National Security Agency   \n",
       "9                                   EAI Technologies   \n",
       "10                      Emerson Automation Solutions   \n",
       "12                                  EAI Technologies   \n",
       "13  Engineering Software and Network Services (ESNS)   \n",
       "\n",
       "                                              summary  \\\n",
       "8   Must also demonstrate knowledge (through cours...   \n",
       "9   Work in a fast-paced, hands-on capacity in a c...   \n",
       "10  We are looking for a meticulous leader and sof...   \n",
       "12  Be the driver to work in a fast-paced, hands-o...   \n",
       "13  Track and manage system performance and identi...   \n",
       "\n",
       "                               location    salary  Experience  \n",
       "8                        Fort Meade, MD  100280.0           6  \n",
       "9   Vienna, VA 22182•Temporarily Remote   80000.0           7  \n",
       "10                       Washington, DC  118000.0           6  \n",
       "12  Vienna, VA 22182•Temporarily Remote  105000.0           7  \n",
       "13    Washington, DC•Temporarily Remote   67500.0           6  "
      ]
     },
     "execution_count": 177,
     "metadata": {},
     "output_type": "execute_result"
    }
   ],
   "source": [
    "frame1 = [indeed3,glassdoor3]\n",
    "total_data_1 = pd.concat(frame1)\n",
    "total_data_1.head()\n"
   ]
  },
  {
   "cell_type": "code",
   "execution_count": 178,
   "metadata": {},
   "outputs": [],
   "source": [
    "total_data_1 = total_data_1.drop('Experience', 1)\n"
   ]
  },
  {
   "cell_type": "code",
   "execution_count": 179,
   "metadata": {},
   "outputs": [],
   "source": [
    "total_data_1['Experience'] = np.random.randint(3, 12, total_data_1.shape[0])"
   ]
  },
  {
   "cell_type": "code",
   "execution_count": 180,
   "metadata": {},
   "outputs": [],
   "source": [
    "total_data_1[\"posted_date\"] = np.random.choice(pd.date_range('01-01-2017', '12-31-2020'), len(total_data_1))"
   ]
  },
  {
   "cell_type": "code",
   "execution_count": 181,
   "metadata": {},
   "outputs": [],
   "source": [
    "total_data_1.to_csv('total_jobs_1.csv')"
   ]
  },
  {
   "cell_type": "code",
   "execution_count": 182,
   "metadata": {},
   "outputs": [
    {
     "name": "stdout",
     "output_type": "stream",
     "text": [
      "<class 'pandas.core.frame.DataFrame'>\n",
      "Int64Index: 3332 entries, 8 to 2141\n",
      "Data columns (total 7 columns):\n",
      " #   Column       Non-Null Count  Dtype         \n",
      "---  ------       --------------  -----         \n",
      " 0   title        3332 non-null   object        \n",
      " 1   company      3331 non-null   object        \n",
      " 2   summary      3332 non-null   object        \n",
      " 3   location     3332 non-null   object        \n",
      " 4   salary       3332 non-null   float64       \n",
      " 5   Experience   3332 non-null   int64         \n",
      " 6   posted_date  3332 non-null   datetime64[ns]\n",
      "dtypes: datetime64[ns](1), float64(1), int64(1), object(4)\n",
      "memory usage: 208.2+ KB\n"
     ]
    }
   ],
   "source": [
    "total_data_1.info()"
   ]
  },
  {
   "cell_type": "code",
   "execution_count": null,
   "metadata": {},
   "outputs": [],
   "source": []
  },
  {
   "cell_type": "code",
   "execution_count": null,
   "metadata": {},
   "outputs": [],
   "source": [
    "df$location asfactor"
   ]
  }
 ],
 "metadata": {
  "kernelspec": {
   "display_name": "Python 3",
   "language": "python",
   "name": "python3"
  },
  "language_info": {
   "codemirror_mode": {
    "name": "ipython",
    "version": 3
   },
   "file_extension": ".py",
   "mimetype": "text/x-python",
   "name": "python",
   "nbconvert_exporter": "python",
   "pygments_lexer": "ipython3",
   "version": "3.7.4"
  }
 },
 "nbformat": 4,
 "nbformat_minor": 2
}
